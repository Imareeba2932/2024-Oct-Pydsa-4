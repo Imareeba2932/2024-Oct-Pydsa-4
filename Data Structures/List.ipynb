{
 "cells": [
  {
   "cell_type": "code",
   "execution_count": 2,
   "metadata": {},
   "outputs": [
    {
     "name": "stdout",
     "output_type": "stream",
     "text": [
      "['drive', 'google', 'gallery', 'blinkit', 'swiggy', 'zomato', 'uber', 'maps', 'instagram', 'watsap']\n"
     ]
    }
   ],
   "source": [
    "apps = ['drive','google','gallery','blinkit','swiggy','zomato','uber','maps','instagram','watsap']\n",
    "print(apps)"
   ]
  },
  {
   "cell_type": "markdown",
   "metadata": {},
   "source": [
    "Indexing"
   ]
  },
  {
   "cell_type": "code",
   "execution_count": 3,
   "metadata": {},
   "outputs": [
    {
     "name": "stdout",
     "output_type": "stream",
     "text": [
      "gallery\n",
      "zomato\n"
     ]
    }
   ],
   "source": [
    "print(apps[2])\n",
    "print(apps[5])"
   ]
  },
  {
   "cell_type": "code",
   "execution_count": 4,
   "metadata": {},
   "outputs": [
    {
     "name": "stdout",
     "output_type": "stream",
     "text": [
      "maps\n",
      "drive\n"
     ]
    }
   ],
   "source": [
    "print(apps[-3])\n",
    "print(apps[-10])"
   ]
  },
  {
   "cell_type": "markdown",
   "metadata": {},
   "source": [
    "Slicing"
   ]
  },
  {
   "cell_type": "code",
   "execution_count": 5,
   "metadata": {},
   "outputs": [
    {
     "name": "stdout",
     "output_type": "stream",
     "text": [
      "['gallery', 'blinkit', 'swiggy', 'zomato', 'uber', 'maps']\n",
      "['drive', 'google', 'gallery', 'blinkit', 'swiggy']\n",
      "['zomato', 'uber', 'maps', 'instagram', 'watsap']\n",
      "['drive', 'google', 'gallery', 'blinkit', 'swiggy', 'zomato', 'uber', 'maps', 'instagram', 'watsap']\n",
      "['zomato', 'uber', 'maps', 'instagram', 'watsap']\n"
     ]
    }
   ],
   "source": [
    "print(apps[2:8])\n",
    "print(apps[:5])\n",
    "print(apps[5:])\n",
    "print(apps[:])\n",
    "print(apps[-5:])\n"
   ]
  },
  {
   "cell_type": "code",
   "execution_count": 6,
   "metadata": {},
   "outputs": [
    {
     "name": "stdout",
     "output_type": "stream",
     "text": [
      "['drive', 'gallery', 'swiggy', 'uber', 'instagram']\n"
     ]
    }
   ],
   "source": [
    "print(apps[0::2])"
   ]
  },
  {
   "cell_type": "code",
   "execution_count": 7,
   "metadata": {},
   "outputs": [
    {
     "name": "stdout",
     "output_type": "stream",
     "text": [
      "[5, 9, 0, 8]\n"
     ]
    }
   ],
   "source": [
    "lst = [8,0,9,5]\n",
    "print(lst[::-1])"
   ]
  },
  {
   "cell_type": "markdown",
   "metadata": {},
   "source": [
    "Methods of list \n",
    "- append - to add item at the end of the list\n",
    "- insert - to add item at any specific index position\n",
    "- pop - to delete item from any specific index position\n",
    "- remove - to delete item using item's name\n",
    "- sort - to arrange the item in any order\n",
    "- copy - to make aa copy of the list\n",
    "- extend - to combine two list\n",
    "- clear - to delete all the items from the list"
   ]
  },
  {
   "cell_type": "code",
   "execution_count": 8,
   "metadata": {},
   "outputs": [
    {
     "name": "stdout",
     "output_type": "stream",
     "text": [
      "['drive', 'google', 'gallery', 'blinkit', 'swiggy', 'zomato', 'uber', 'maps', 'instagram', 'watsap']\n"
     ]
    }
   ],
   "source": [
    "print(apps)"
   ]
  },
  {
   "cell_type": "code",
   "execution_count": 9,
   "metadata": {},
   "outputs": [
    {
     "name": "stdout",
     "output_type": "stream",
     "text": [
      "['drive', 'google', 'gallery', 'blinkit', 'swiggy', 'zomato', 'uber', 'maps', 'instagram', 'watsap', 'facebook']\n"
     ]
    }
   ],
   "source": [
    "apps.append('facebook')\n",
    "print(apps)"
   ]
  },
  {
   "cell_type": "code",
   "execution_count": 10,
   "metadata": {},
   "outputs": [
    {
     "name": "stdout",
     "output_type": "stream",
     "text": [
      "['drive', 'google', 'gallery', 'snapchat', 'blinkit', 'swiggy', 'zomato', 'uber', 'maps', 'instagram', 'watsap', 'facebook']\n"
     ]
    }
   ],
   "source": [
    "apps.insert(3,'snapchat')\n",
    "print(apps)"
   ]
  },
  {
   "cell_type": "code",
   "execution_count": 12,
   "metadata": {},
   "outputs": [
    {
     "name": "stdout",
     "output_type": "stream",
     "text": [
      "['drive', 'google', 'gallery', 'snapchat', 'blinkit', 'uber', 'maps', 'instagram', 'watsap', 'facebook']\n"
     ]
    }
   ],
   "source": [
    "apps.pop(5)\n",
    "print(apps)"
   ]
  },
  {
   "cell_type": "code",
   "execution_count": 13,
   "metadata": {},
   "outputs": [
    {
     "name": "stdout",
     "output_type": "stream",
     "text": [
      "['drive', 'google', 'gallery', 'snapchat', 'blinkit', 'uber', 'instagram', 'watsap', 'facebook']\n"
     ]
    }
   ],
   "source": [
    "apps.remove('maps')\n",
    "print(apps)"
   ]
  },
  {
   "cell_type": "code",
   "execution_count": 14,
   "metadata": {},
   "outputs": [
    {
     "name": "stdout",
     "output_type": "stream",
     "text": [
      "['blinkit', 'drive', 'facebook', 'gallery', 'google', 'instagram', 'snapchat', 'uber', 'watsap']\n"
     ]
    }
   ],
   "source": [
    "apps.sort()\n",
    "print(apps)"
   ]
  },
  {
   "cell_type": "code",
   "execution_count": 16,
   "metadata": {},
   "outputs": [
    {
     "name": "stdout",
     "output_type": "stream",
     "text": [
      "['blinkit', 'drive', 'facebook', 'gallery', 'google', 'instagram', 'snapchat', 'uber', 'watsap']\n"
     ]
    }
   ],
   "source": [
    "apps2 = apps.copy()\n",
    "print(apps2)"
   ]
  },
  {
   "cell_type": "code",
   "execution_count": 18,
   "metadata": {},
   "outputs": [
    {
     "name": "stdout",
     "output_type": "stream",
     "text": [
      "[]\n"
     ]
    }
   ],
   "source": [
    "apps2.clear()\n",
    "print(apps2)"
   ]
  },
  {
   "cell_type": "code",
   "execution_count": 20,
   "metadata": {},
   "outputs": [
    {
     "name": "stdout",
     "output_type": "stream",
     "text": [
      "['swiggy', 'linkedin', 'canva', 'calender', 'blinkit', 'drive', 'facebook', 'gallery', 'google', 'instagram', 'snapchat', 'uber', 'watsap', 'swiggy', 'linkedin', 'canva', 'calender']\n"
     ]
    }
   ],
   "source": [
    "lst = ['swiggy','linkedin','canva','calender']\n",
    "lst.extend(apps)\n",
    "print(lst)"
   ]
  },
  {
   "cell_type": "code",
   "execution_count": null,
   "metadata": {},
   "outputs": [],
   "source": []
  }
 ],
 "metadata": {
  "kernelspec": {
   "display_name": "base",
   "language": "python",
   "name": "python3"
  },
  "language_info": {
   "codemirror_mode": {
    "name": "ipython",
    "version": 3
   },
   "file_extension": ".py",
   "mimetype": "text/x-python",
   "name": "python",
   "nbconvert_exporter": "python",
   "pygments_lexer": "ipython3",
   "version": "3.9.12"
  }
 },
 "nbformat": 4,
 "nbformat_minor": 2
}
