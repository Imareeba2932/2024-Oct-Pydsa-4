{
 "cells": [
  {
   "cell_type": "markdown",
   "metadata": {},
   "source": [
    "Condition Statements\n",
    "- if\n",
    "- elif\n",
    "- if else\n",
    "- nested if\n",
    "- switch case"
   ]
  },
  {
   "cell_type": "code",
   "execution_count": 1,
   "metadata": {},
   "outputs": [
    {
     "name": "stdout",
     "output_type": "stream",
     "text": [
      "Grade A\n",
      "Grade B\n"
     ]
    }
   ],
   "source": [
    "marks = 85\n",
    "if marks>=90:\n",
    "    print(\"Grade A+\")\n",
    "if marks>=70:\n",
    "    print(\"Grade A\")\n",
    "if marks>=60:\n",
    "    print(\"Grade B\")\n",
    "if marks<50:\n",
    "    print(\"poor performance\")"
   ]
  },
  {
   "cell_type": "code",
   "execution_count": 2,
   "metadata": {},
   "outputs": [
    {
     "name": "stdout",
     "output_type": "stream",
     "text": [
      "Grade A\n"
     ]
    }
   ],
   "source": [
    "marks = 85\n",
    "if marks>=90:\n",
    "    print(\"Grade A+\")\n",
    "elif marks>=70:\n",
    "    print(\"Grade A\")\n",
    "elif marks>=60:\n",
    "    print(\"Grade B\")\n",
    "elif marks<50:\n",
    "    print(\"poor performance\")\n",
    "else:\n",
    "    print(\"Fail\")  "
   ]
  },
  {
   "cell_type": "markdown",
   "metadata": {},
   "source": [
    "- check whether a person is elligible to vote or not\n",
    "- check whether two sides are equal or not\n",
    "- check whether a triangle is equilateral or iscoceles\n",
    "- check whether a character entered by user is vowel or not\n",
    "- check whether a number is odd or even"
   ]
  },
  {
   "cell_type": "code",
   "execution_count": 3,
   "metadata": {},
   "outputs": [
    {
     "name": "stdout",
     "output_type": "stream",
     "text": [
      "You are eligible to vote\n"
     ]
    }
   ],
   "source": [
    "age = 21\n",
    "if age>=18:\n",
    "    print(\"You are eligible to vote\")\n",
    "else:\n",
    "    print(\"You are not eligible to vote\")"
   ]
  },
  {
   "cell_type": "code",
   "execution_count": null,
   "metadata": {},
   "outputs": [],
   "source": []
  }
 ],
 "metadata": {
  "kernelspec": {
   "display_name": "base",
   "language": "python",
   "name": "python3"
  },
  "language_info": {
   "codemirror_mode": {
    "name": "ipython",
    "version": 3
   },
   "file_extension": ".py",
   "mimetype": "text/x-python",
   "name": "python",
   "nbconvert_exporter": "python",
   "pygments_lexer": "ipython3",
   "version": "3.9.12"
  }
 },
 "nbformat": 4,
 "nbformat_minor": 2
}
